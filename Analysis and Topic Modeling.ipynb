{
 "cells": [
  {
   "cell_type": "code",
   "execution_count": 2,
   "metadata": {},
   "outputs": [],
   "source": [
    "from nltk import download\n",
    "from html.parser import HTMLParser\n",
    "import re\n",
    "from nltk.corpus import stopwords\n",
    "import string\n",
    "from nltk.stem.wordnet import WordNetLemmatizer \n",
    "from nltk.tokenize import word_tokenize\n",
    "from nltk.stem import PorterStemmer\n",
    "from itertools import groupby\n",
    "import pandas as pd\n",
    "import json\n",
    "import numpy as np\n",
    "import ast\n",
    "from collections import Counter\n",
    "import glob\n",
    "import os\n",
    "import warnings\n",
    "from sklearn.feature_extraction.text import CountVectorizer\n",
    "from vaderSentiment.vaderSentiment import SentimentIntensityAnalyzer\n",
    "from sklearn.decomposition import PCA, LatentDirichletAllocation, NMF\n",
    "from sklearn.feature_extraction.text import TfidfVectorizer\n",
    "\n",
    "#download('punkt')\n",
    "#download('wordnet')"
   ]
  },
  {
   "cell_type": "code",
   "execution_count": 3,
   "metadata": {},
   "outputs": [],
   "source": [
    "warnings.filterwarnings('ignore')"
   ]
  },
  {
   "cell_type": "code",
   "execution_count": 4,
   "metadata": {},
   "outputs": [],
   "source": [
    "def extract_words(str_of_words):\n",
    "    \"\"\" \n",
    "    return the list of words in the string\n",
    "    \"\"\"\n",
    "    new_word_list = []\n",
    "    word_list = word_tokenize(str_of_words)\n",
    "    word_list = [word.lower() for word in word_list if word[0].isalpha() and len(word)>1]\n",
    "        \n",
    "    return word_list\n",
    "\n",
    "list_text = 'RT @NRA: #IDontTrustPeopleThat want to ban all guns, repeal #2A, and/or infringe on the right of the people to keep and bear Arms. #NRA #Deâ€¦'\n",
    "\n",
    "#extract_words(list_text)"
   ]
  },
  {
   "cell_type": "code",
   "execution_count": 5,
   "metadata": {},
   "outputs": [],
   "source": [
    "# remove stop words\n",
    "def remove_stop_words(list_words):\n",
    "    new_words = []\n",
    "    punctuation = list(string.punctuation)\n",
    "    stop = stopwords.words(\"english\")+punctuation+['rt', 'via']\n",
    "\n",
    "    for word in list_words:\n",
    "        if word not in stop:\n",
    "            new_words.append(word)\n",
    "    return new_words\n",
    "\n",
    "#remove_stop_words(['i', 'luv', 'my'])"
   ]
  },
  {
   "cell_type": "code",
   "execution_count": 6,
   "metadata": {},
   "outputs": [
    {
     "name": "stdout",
     "output_type": "stream",
     "text": [
      "['dont', 'trust', 'people', 'want', 'ban', 'gun', 'repeal', 'and/or', 'infringe', 'right', 'people', 'keep', 'bear', 'arm', 'deâ€¦', 'breitbart', 'news', 'kaladious', 'kid', 'hijacked', 'media/', 'politician', 'realizing', 'powerful']\n"
     ]
    }
   ],
   "source": [
    "def lemmatize_words(list_words):\n",
    "    \"\"\" \n",
    "    count number of easy words from the list of words\n",
    "    \"\"\"\n",
    "    lemmatized_words = []\n",
    "    lemmatizer = WordNetLemmatizer()\n",
    "    for word in list_words:\n",
    "        word_n = lemmatizer.lemmatize(word, 'n')\n",
    "        word_v = lemmatizer.lemmatize(word, 'v')\n",
    "        lemmatized_words.append(word_n)\n",
    "        if (word != word_n and word_n not in word_v and word_v not in word_n):\n",
    "            lemmatized_words.append(word_v)\n",
    "    return lemmatized_words\n",
    "\n",
    "print(lemmatize_words(['dont', 'trust', 'people', 'want', 'ban', 'guns', 'repeal', 'and/or', 'infringe', 'right', 'people', 'keep', 'bear', 'arms', 'deâ€¦', 'breitbart', 'news', 'kaladious', 'kids', 'hijacked', 'media/', 'politicians', 'realizing', 'powerful']))"
   ]
  },
  {
   "cell_type": "code",
   "execution_count": 7,
   "metadata": {},
   "outputs": [],
   "source": [
    "def perform_stemming(list_words):\n",
    "    ps = PorterStemmer()\n",
    "    word_list = [ps.stem(word) for word in list_words]\n",
    "    return word_list\n",
    "\n",
    "#print(perform_stemming(['dont', 'trust', 'people', 'want', 'ban', 'guns', 'repeal', 'and/or', 'infringe', 'right', 'people', 'keep', 'bear', 'arms', 'deâ€¦', 'breitbart', 'news', 'kaladious', 'kids', 'hijacked', 'media/', 'politicians', 'realizing', 'powerful']))"
   ]
  },
  {
   "cell_type": "code",
   "execution_count": 8,
   "metadata": {},
   "outputs": [],
   "source": [
    "# standardize words\n",
    "def standardize_words(word_list):\n",
    "    standarized_words = []\n",
    "    for word in word_list:\n",
    "        word_l= [x[0] for x in groupby(word)]\n",
    "        word_l = ('').join(word_l)\n",
    "        standarized_words.append(word_l)\n",
    "    return standarized_words"
   ]
  },
  {
   "cell_type": "code",
   "execution_count": 9,
   "metadata": {},
   "outputs": [],
   "source": [
    "RE_EMOJI = re.compile('[\\U00010000-\\U0010ffff]', flags=re.UNICODE)\n",
    "# remove emojis\n",
    "def strip_emoji(text):\n",
    "    return RE_EMOJI.sub(r'', text)\n",
    "\n",
    "#print(strip_emoji('baba black sheep 🙄🤔💗'))"
   ]
  },
  {
   "cell_type": "code",
   "execution_count": 10,
   "metadata": {},
   "outputs": [],
   "source": [
    "df_tweets = pd.read_csv('Cleaned_Tweets.csv')"
   ]
  },
  {
   "cell_type": "code",
   "execution_count": 11,
   "metadata": {},
   "outputs": [
    {
     "data": {
      "text/plain": [
       "(87403, 9)"
      ]
     },
     "execution_count": 11,
     "metadata": {},
     "output_type": "execute_result"
    }
   ],
   "source": [
    "df_tweets.shape"
   ]
  },
  {
   "cell_type": "code",
   "execution_count": 12,
   "metadata": {},
   "outputs": [
    {
     "data": {
      "text/html": [
       "<div>\n",
       "<style scoped>\n",
       "    .dataframe tbody tr th:only-of-type {\n",
       "        vertical-align: middle;\n",
       "    }\n",
       "\n",
       "    .dataframe tbody tr th {\n",
       "        vertical-align: top;\n",
       "    }\n",
       "\n",
       "    .dataframe thead th {\n",
       "        text-align: right;\n",
       "    }\n",
       "</style>\n",
       "<table border=\"1\" class=\"dataframe\">\n",
       "  <thead>\n",
       "    <tr style=\"text-align: right;\">\n",
       "      <th></th>\n",
       "      <th>created_at</th>\n",
       "      <th>entities</th>\n",
       "      <th>retweet_count</th>\n",
       "      <th>retweeted</th>\n",
       "      <th>text</th>\n",
       "      <th>keyword</th>\n",
       "      <th>hashtags</th>\n",
       "      <th>location</th>\n",
       "      <th>screen_name</th>\n",
       "    </tr>\n",
       "  </thead>\n",
       "  <tbody>\n",
       "    <tr>\n",
       "      <th>0</th>\n",
       "      <td>2018-05-25</td>\n",
       "      <td>{'hashtags': [{'indices': [51, 61], 'text': 'H...</td>\n",
       "      <td>0.0</td>\n",
       "      <td>False</td>\n",
       "      <td>@PressSec @Rambobiggs @TheSlyStallone just ano...</td>\n",
       "      <td>antigun</td>\n",
       "      <td>['Hollywood', 'AntiGun', 'Anti2ndAmendment', '...</td>\n",
       "      <td>in the middle of nowhere USA</td>\n",
       "      <td>Hiwayman64</td>\n",
       "    </tr>\n",
       "    <tr>\n",
       "      <th>1</th>\n",
       "      <td>2018-05-25</td>\n",
       "      <td>{'hashtags': [{'indices': [17, 25], 'text': 'a...</td>\n",
       "      <td>0.0</td>\n",
       "      <td>False</td>\n",
       "      <td>Chew on this you #antigun #liberals #shooting ...</td>\n",
       "      <td>antigun</td>\n",
       "      <td>['antigun', 'liberals', 'shooting', 'DavidHogg']</td>\n",
       "      <td>NaN</td>\n",
       "      <td>Infidel_Sniper</td>\n",
       "    </tr>\n",
       "    <tr>\n",
       "      <th>2</th>\n",
       "      <td>2018-05-25</td>\n",
       "      <td>{'hashtags': [{'indices': [49, 65], 'text': 'I...</td>\n",
       "      <td>0.0</td>\n",
       "      <td>False</td>\n",
       "      <td>Shannon Watts of @Everytown Is a Left-Wing Fra...</td>\n",
       "      <td>antigun</td>\n",
       "      <td>['IAmForGunRights']</td>\n",
       "      <td>Ohio, USA</td>\n",
       "      <td>MachewsMAGA</td>\n",
       "    </tr>\n",
       "    <tr>\n",
       "      <th>3</th>\n",
       "      <td>2018-05-25</td>\n",
       "      <td>{'hashtags': [], 'symbols': [], 'urls': [], 'u...</td>\n",
       "      <td>2.0</td>\n",
       "      <td>False</td>\n",
       "      <td>RT @MachewsMAGA: Dying man's lawsuit claims Mo...</td>\n",
       "      <td>antigun</td>\n",
       "      <td>0</td>\n",
       "      <td>Eden</td>\n",
       "      <td>emalvini</td>\n",
       "    </tr>\n",
       "    <tr>\n",
       "      <th>4</th>\n",
       "      <td>2018-05-25</td>\n",
       "      <td>{'hashtags': [], 'symbols': [], 'urls': [{'dis...</td>\n",
       "      <td>2.0</td>\n",
       "      <td>False</td>\n",
       "      <td>Dying man's lawsuit claims Monsanto covered up...</td>\n",
       "      <td>antigun</td>\n",
       "      <td>0</td>\n",
       "      <td>Ohio, USA</td>\n",
       "      <td>MachewsMAGA</td>\n",
       "    </tr>\n",
       "  </tbody>\n",
       "</table>\n",
       "</div>"
      ],
      "text/plain": [
       "   created_at                                           entities  \\\n",
       "0  2018-05-25  {'hashtags': [{'indices': [51, 61], 'text': 'H...   \n",
       "1  2018-05-25  {'hashtags': [{'indices': [17, 25], 'text': 'a...   \n",
       "2  2018-05-25  {'hashtags': [{'indices': [49, 65], 'text': 'I...   \n",
       "3  2018-05-25  {'hashtags': [], 'symbols': [], 'urls': [], 'u...   \n",
       "4  2018-05-25  {'hashtags': [], 'symbols': [], 'urls': [{'dis...   \n",
       "\n",
       "   retweet_count retweeted                                               text  \\\n",
       "0            0.0     False  @PressSec @Rambobiggs @TheSlyStallone just ano...   \n",
       "1            0.0     False  Chew on this you #antigun #liberals #shooting ...   \n",
       "2            0.0     False  Shannon Watts of @Everytown Is a Left-Wing Fra...   \n",
       "3            2.0     False  RT @MachewsMAGA: Dying man's lawsuit claims Mo...   \n",
       "4            2.0     False  Dying man's lawsuit claims Monsanto covered up...   \n",
       "\n",
       "   keyword                                           hashtags  \\\n",
       "0  antigun  ['Hollywood', 'AntiGun', 'Anti2ndAmendment', '...   \n",
       "1  antigun   ['antigun', 'liberals', 'shooting', 'DavidHogg']   \n",
       "2  antigun                                ['IAmForGunRights']   \n",
       "3  antigun                                                  0   \n",
       "4  antigun                                                  0   \n",
       "\n",
       "                       location     screen_name  \n",
       "0  in the middle of nowhere USA      Hiwayman64  \n",
       "1                           NaN  Infidel_Sniper  \n",
       "2                     Ohio, USA     MachewsMAGA  \n",
       "3                          Eden        emalvini  \n",
       "4                     Ohio, USA     MachewsMAGA  "
      ]
     },
     "execution_count": 12,
     "metadata": {},
     "output_type": "execute_result"
    }
   ],
   "source": [
    "df_tweets.head()"
   ]
  },
  {
   "cell_type": "code",
   "execution_count": 13,
   "metadata": {},
   "outputs": [
    {
     "data": {
      "text/plain": [
       "Index(['created_at', 'entities', 'retweet_count', 'retweeted', 'text',\n",
       "       'keyword', 'hashtags', 'location', 'screen_name'],\n",
       "      dtype='object')"
      ]
     },
     "execution_count": 13,
     "metadata": {},
     "output_type": "execute_result"
    }
   ],
   "source": [
    "df_tweets.columns"
   ]
  },
  {
   "cell_type": "code",
   "execution_count": 14,
   "metadata": {},
   "outputs": [],
   "source": [
    "df_keyword_counts = pd.DataFrame(pd.value_counts(df_tweets.keyword)).reset_index(level=0)\n",
    "df_keyword_counts.columns = ['keyword', 'count']\n",
    "df_keyword_counts.to_csv('keywords_counts.csv')"
   ]
  },
  {
   "cell_type": "code",
   "execution_count": 15,
   "metadata": {},
   "outputs": [],
   "source": [
    "df_tweet_totals = df_tweets.groupby(['created_at', \n",
    "    'keyword'])['text'].count().reset_index().sort_values(by = ['text'], \n",
    "                                                                    ascending = False)\n",
    "\n",
    "df_tweet_totals.to_csv('Tweet_Totals.csv')"
   ]
  },
  {
   "cell_type": "code",
   "execution_count": 16,
   "metadata": {},
   "outputs": [
    {
     "data": {
      "text/html": [
       "<div>\n",
       "<style scoped>\n",
       "    .dataframe tbody tr th:only-of-type {\n",
       "        vertical-align: middle;\n",
       "    }\n",
       "\n",
       "    .dataframe tbody tr th {\n",
       "        vertical-align: top;\n",
       "    }\n",
       "\n",
       "    .dataframe thead th {\n",
       "        text-align: right;\n",
       "    }\n",
       "</style>\n",
       "<table border=\"1\" class=\"dataframe\">\n",
       "  <thead>\n",
       "    <tr style=\"text-align: right;\">\n",
       "      <th></th>\n",
       "      <th>retweet_count</th>\n",
       "    </tr>\n",
       "  </thead>\n",
       "  <tbody>\n",
       "    <tr>\n",
       "      <th>count</th>\n",
       "      <td>87402.000000</td>\n",
       "    </tr>\n",
       "    <tr>\n",
       "      <th>mean</th>\n",
       "      <td>15.177307</td>\n",
       "    </tr>\n",
       "    <tr>\n",
       "      <th>std</th>\n",
       "      <td>352.142868</td>\n",
       "    </tr>\n",
       "    <tr>\n",
       "      <th>min</th>\n",
       "      <td>0.000000</td>\n",
       "    </tr>\n",
       "    <tr>\n",
       "      <th>25%</th>\n",
       "      <td>0.000000</td>\n",
       "    </tr>\n",
       "    <tr>\n",
       "      <th>50%</th>\n",
       "      <td>0.000000</td>\n",
       "    </tr>\n",
       "    <tr>\n",
       "      <th>75%</th>\n",
       "      <td>1.000000</td>\n",
       "    </tr>\n",
       "    <tr>\n",
       "      <th>max</th>\n",
       "      <td>60160.000000</td>\n",
       "    </tr>\n",
       "  </tbody>\n",
       "</table>\n",
       "</div>"
      ],
      "text/plain": [
       "       retweet_count\n",
       "count   87402.000000\n",
       "mean       15.177307\n",
       "std       352.142868\n",
       "min         0.000000\n",
       "25%         0.000000\n",
       "50%         0.000000\n",
       "75%         1.000000\n",
       "max     60160.000000"
      ]
     },
     "execution_count": 16,
     "metadata": {},
     "output_type": "execute_result"
    }
   ],
   "source": [
    "df_tweets.describe()"
   ]
  },
  {
   "cell_type": "code",
   "execution_count": 17,
   "metadata": {},
   "outputs": [
    {
     "name": "stdout",
     "output_type": "stream",
     "text": [
      "before, number of nan: 1\n",
      "after, number of nan: 0\n"
     ]
    }
   ],
   "source": [
    "text_data = df_tweets['text']\n",
    "print('before, number of nan:', text_data.isnull().sum())\n",
    "df_tweets.text.fillna('', inplace=True)\n",
    "print('after, number of nan:',text_data.isnull().sum())\n",
    "\n",
    "list_text = list(df_tweets.text)\n"
   ]
  },
  {
   "cell_type": "code",
   "execution_count": 18,
   "metadata": {},
   "outputs": [],
   "source": [
    "def preprocessing(list_text):\n",
    "    word_list = []\n",
    "    i=0\n",
    "    for tweet in list_text:\n",
    "        # remove urls\n",
    "        tweet = re.sub(r\"http\\S+\", \"\", tweet)\n",
    "        \n",
    "        df_tweets.at[i,'text'] =  tweet\n",
    "        i=i+1\n",
    "        #remove hashtags\n",
    "        tweet = re.sub(r\"#\\S+\", '', tweet)\n",
    "        #remove mentions\n",
    "        tweet = re.sub(r\"@\\S+\", '', tweet)\n",
    "        #tweet = \" \".join(re.findall('[A-Z][^A-Z]*', tweet))\n",
    "        tweet = re.sub('/', '', tweet)\n",
    "        #remove emojis\n",
    "        tweet = strip_emoji(tweet)\n",
    "        # convert to lowercase and list of words\n",
    "        word_list.extend(extract_words(tweet))\n",
    "\n",
    "    #remove stop words    \n",
    "    word_list = remove_stop_words(word_list)\n",
    "\n",
    "    #standardize words\n",
    "    #std_words = standardize_words(word_list)\n",
    "    # stemming    \n",
    "    lemmatized_words = lemmatize_words(word_list)\n",
    "    return lemmatized_words"
   ]
  },
  {
   "cell_type": "code",
   "execution_count": 19,
   "metadata": {},
   "outputs": [],
   "source": [
    "# parse html\n",
    "# split attached words - DONE\n",
    "# remove urls - DONE\n",
    "# remove stop words - DONE\n",
    "# remove emojis - DONE\n",
    "# slang lookup\n",
    "# standardizing words - DONE\n",
    "# lemmatize/stemming - DONE\n",
    "lemmatized_words = preprocessing(list_text)"
   ]
  },
  {
   "cell_type": "code",
   "execution_count": 20,
   "metadata": {},
   "outputs": [
    {
     "data": {
      "text/html": [
       "<div>\n",
       "<style scoped>\n",
       "    .dataframe tbody tr th:only-of-type {\n",
       "        vertical-align: middle;\n",
       "    }\n",
       "\n",
       "    .dataframe tbody tr th {\n",
       "        vertical-align: top;\n",
       "    }\n",
       "\n",
       "    .dataframe thead th {\n",
       "        text-align: right;\n",
       "    }\n",
       "</style>\n",
       "<table border=\"1\" class=\"dataframe\">\n",
       "  <thead>\n",
       "    <tr style=\"text-align: right;\">\n",
       "      <th></th>\n",
       "      <th>created_at</th>\n",
       "      <th>entities</th>\n",
       "      <th>retweet_count</th>\n",
       "      <th>retweeted</th>\n",
       "      <th>text</th>\n",
       "      <th>keyword</th>\n",
       "      <th>hashtags</th>\n",
       "      <th>location</th>\n",
       "      <th>screen_name</th>\n",
       "    </tr>\n",
       "  </thead>\n",
       "  <tbody>\n",
       "    <tr>\n",
       "      <th>0</th>\n",
       "      <td>2018-05-25</td>\n",
       "      <td>{'hashtags': [{'indices': [51, 61], 'text': 'H...</td>\n",
       "      <td>0.0</td>\n",
       "      <td>False</td>\n",
       "      <td>@PressSec @Rambobiggs @TheSlyStallone just ano...</td>\n",
       "      <td>antigun</td>\n",
       "      <td>['Hollywood', 'AntiGun', 'Anti2ndAmendment', '...</td>\n",
       "      <td>in the middle of nowhere USA</td>\n",
       "      <td>Hiwayman64</td>\n",
       "    </tr>\n",
       "    <tr>\n",
       "      <th>1</th>\n",
       "      <td>2018-05-25</td>\n",
       "      <td>{'hashtags': [{'indices': [17, 25], 'text': 'a...</td>\n",
       "      <td>0.0</td>\n",
       "      <td>False</td>\n",
       "      <td>Chew on this you #antigun #liberals #shooting ...</td>\n",
       "      <td>antigun</td>\n",
       "      <td>['antigun', 'liberals', 'shooting', 'DavidHogg']</td>\n",
       "      <td>NaN</td>\n",
       "      <td>Infidel_Sniper</td>\n",
       "    </tr>\n",
       "    <tr>\n",
       "      <th>2</th>\n",
       "      <td>2018-05-25</td>\n",
       "      <td>{'hashtags': [{'indices': [49, 65], 'text': 'I...</td>\n",
       "      <td>0.0</td>\n",
       "      <td>False</td>\n",
       "      <td>Shannon Watts of @Everytown Is a Left-Wing Fra...</td>\n",
       "      <td>antigun</td>\n",
       "      <td>['IAmForGunRights']</td>\n",
       "      <td>Ohio, USA</td>\n",
       "      <td>MachewsMAGA</td>\n",
       "    </tr>\n",
       "    <tr>\n",
       "      <th>3</th>\n",
       "      <td>2018-05-25</td>\n",
       "      <td>{'hashtags': [], 'symbols': [], 'urls': [], 'u...</td>\n",
       "      <td>2.0</td>\n",
       "      <td>False</td>\n",
       "      <td>RT @MachewsMAGA: Dying man's lawsuit claims Mo...</td>\n",
       "      <td>antigun</td>\n",
       "      <td>0</td>\n",
       "      <td>Eden</td>\n",
       "      <td>emalvini</td>\n",
       "    </tr>\n",
       "    <tr>\n",
       "      <th>4</th>\n",
       "      <td>2018-05-25</td>\n",
       "      <td>{'hashtags': [], 'symbols': [], 'urls': [{'dis...</td>\n",
       "      <td>2.0</td>\n",
       "      <td>False</td>\n",
       "      <td>Dying man's lawsuit claims Monsanto covered up...</td>\n",
       "      <td>antigun</td>\n",
       "      <td>0</td>\n",
       "      <td>Ohio, USA</td>\n",
       "      <td>MachewsMAGA</td>\n",
       "    </tr>\n",
       "  </tbody>\n",
       "</table>\n",
       "</div>"
      ],
      "text/plain": [
       "   created_at                                           entities  \\\n",
       "0  2018-05-25  {'hashtags': [{'indices': [51, 61], 'text': 'H...   \n",
       "1  2018-05-25  {'hashtags': [{'indices': [17, 25], 'text': 'a...   \n",
       "2  2018-05-25  {'hashtags': [{'indices': [49, 65], 'text': 'I...   \n",
       "3  2018-05-25  {'hashtags': [], 'symbols': [], 'urls': [], 'u...   \n",
       "4  2018-05-25  {'hashtags': [], 'symbols': [], 'urls': [{'dis...   \n",
       "\n",
       "   retweet_count retweeted                                               text  \\\n",
       "0            0.0     False  @PressSec @Rambobiggs @TheSlyStallone just ano...   \n",
       "1            0.0     False  Chew on this you #antigun #liberals #shooting ...   \n",
       "2            0.0     False  Shannon Watts of @Everytown Is a Left-Wing Fra...   \n",
       "3            2.0     False  RT @MachewsMAGA: Dying man's lawsuit claims Mo...   \n",
       "4            2.0     False  Dying man's lawsuit claims Monsanto covered up...   \n",
       "\n",
       "   keyword                                           hashtags  \\\n",
       "0  antigun  ['Hollywood', 'AntiGun', 'Anti2ndAmendment', '...   \n",
       "1  antigun   ['antigun', 'liberals', 'shooting', 'DavidHogg']   \n",
       "2  antigun                                ['IAmForGunRights']   \n",
       "3  antigun                                                  0   \n",
       "4  antigun                                                  0   \n",
       "\n",
       "                       location     screen_name  \n",
       "0  in the middle of nowhere USA      Hiwayman64  \n",
       "1                           NaN  Infidel_Sniper  \n",
       "2                     Ohio, USA     MachewsMAGA  \n",
       "3                          Eden        emalvini  \n",
       "4                     Ohio, USA     MachewsMAGA  "
      ]
     },
     "execution_count": 20,
     "metadata": {},
     "output_type": "execute_result"
    }
   ],
   "source": [
    "df_tweets.head()"
   ]
  },
  {
   "cell_type": "markdown",
   "metadata": {},
   "source": [
    "### Hashtag Counts"
   ]
  },
  {
   "cell_type": "code",
   "execution_count": 21,
   "metadata": {},
   "outputs": [],
   "source": [
    "l_hashtags = []\n",
    "\n",
    "for entity in df_tweets.entities:\n",
    "    d = ast.literal_eval(entity)\n",
    "    if d.get('hashtags', False):\n",
    "        list_hashtags = [dict_ht['text'].lower() for dict_ht in d['hashtags']]\n",
    "        l_hashtags.extend(list_hashtags)"
   ]
  },
  {
   "cell_type": "code",
   "execution_count": 22,
   "metadata": {},
   "outputs": [],
   "source": [
    "# most common hashtags\n",
    "counts = Counter(l_hashtags)\n",
    "\n",
    "df = pd.DataFrame(counts.most_common(20), columns=['Hashtag', 'Count'])\n",
    "df.to_csv('hashtag_counts.csv')"
   ]
  },
  {
   "cell_type": "code",
   "execution_count": 23,
   "metadata": {},
   "outputs": [],
   "source": [
    "hashtag_df = pd.DataFrame.from_dict(list(dict(counts).items()))\n",
    "hashtag_df.columns = ['keyword', 'count']\n",
    "sorted_hashtag_df = hashtag_df.sort_values(by='count', ascending=False)"
   ]
  },
  {
   "cell_type": "markdown",
   "metadata": {},
   "source": [
    "### Word Counts"
   ]
  },
  {
   "cell_type": "code",
   "execution_count": 24,
   "metadata": {},
   "outputs": [],
   "source": [
    "w_counts = Counter(lemmatized_words)\n",
    "df = pd.DataFrame(w_counts.most_common(100), columns=['Word', 'Count'])\n",
    "df.to_csv('word_counts.csv')"
   ]
  },
  {
   "cell_type": "markdown",
   "metadata": {},
   "source": [
    "### Retweets"
   ]
  },
  {
   "cell_type": "code",
   "execution_count": 25,
   "metadata": {},
   "outputs": [
    {
     "data": {
      "text/html": [
       "<div>\n",
       "<style scoped>\n",
       "    .dataframe tbody tr th:only-of-type {\n",
       "        vertical-align: middle;\n",
       "    }\n",
       "\n",
       "    .dataframe tbody tr th {\n",
       "        vertical-align: top;\n",
       "    }\n",
       "\n",
       "    .dataframe thead th {\n",
       "        text-align: right;\n",
       "    }\n",
       "</style>\n",
       "<table border=\"1\" class=\"dataframe\">\n",
       "  <thead>\n",
       "    <tr style=\"text-align: right;\">\n",
       "      <th></th>\n",
       "      <th>Unnamed: 31</th>\n",
       "      <th>contributors</th>\n",
       "      <th>coordinates</th>\n",
       "      <th>created_at</th>\n",
       "      <th>entities</th>\n",
       "      <th>extended_entities</th>\n",
       "      <th>favorite_count</th>\n",
       "      <th>favorited</th>\n",
       "      <th>geo</th>\n",
       "      <th>id</th>\n",
       "      <th>...</th>\n",
       "      <th>quoted_status_id</th>\n",
       "      <th>quoted_status_id_str</th>\n",
       "      <th>retweet_count</th>\n",
       "      <th>retweeted</th>\n",
       "      <th>retweeted_status</th>\n",
       "      <th>source</th>\n",
       "      <th>text</th>\n",
       "      <th>truncated</th>\n",
       "      <th>user</th>\n",
       "      <th>withheld_in_countries</th>\n",
       "    </tr>\n",
       "  </thead>\n",
       "  <tbody>\n",
       "    <tr>\n",
       "      <th>0</th>\n",
       "      <td>NaN</td>\n",
       "      <td>NaN</td>\n",
       "      <td>NaN</td>\n",
       "      <td>5/25/2018 4:30</td>\n",
       "      <td>{'hashtags': [{'indices': [51, 61], 'text': 'H...</td>\n",
       "      <td>NaN</td>\n",
       "      <td>0.0</td>\n",
       "      <td>False</td>\n",
       "      <td>NaN</td>\n",
       "      <td>9.998700e+17</td>\n",
       "      <td>...</td>\n",
       "      <td>NaN</td>\n",
       "      <td>NaN</td>\n",
       "      <td>0.0</td>\n",
       "      <td>False</td>\n",
       "      <td>NaN</td>\n",
       "      <td>&lt;a href=\"http://twitter.com\" rel=\"nofollow\"&gt;Tw...</td>\n",
       "      <td>@PressSec @Rambobiggs @TheSlyStallone just ano...</td>\n",
       "      <td>False</td>\n",
       "      <td>{'contributors_enabled': False, 'created_at': ...</td>\n",
       "      <td>NaN</td>\n",
       "    </tr>\n",
       "    <tr>\n",
       "      <th>1</th>\n",
       "      <td>NaN</td>\n",
       "      <td>NaN</td>\n",
       "      <td>NaN</td>\n",
       "      <td>5/25/2018 4:16</td>\n",
       "      <td>{'hashtags': [{'indices': [17, 25], 'text': 'a...</td>\n",
       "      <td>NaN</td>\n",
       "      <td>0.0</td>\n",
       "      <td>False</td>\n",
       "      <td>NaN</td>\n",
       "      <td>9.998670e+17</td>\n",
       "      <td>...</td>\n",
       "      <td>1.000000e+18</td>\n",
       "      <td>1.000000e+18</td>\n",
       "      <td>0.0</td>\n",
       "      <td>False</td>\n",
       "      <td>NaN</td>\n",
       "      <td>&lt;a href=\"http://twitter.com/download/iphone\" r...</td>\n",
       "      <td>Chew on this you #antigun #liberals #shooting ...</td>\n",
       "      <td>True</td>\n",
       "      <td>{'contributors_enabled': False, 'created_at': ...</td>\n",
       "      <td>NaN</td>\n",
       "    </tr>\n",
       "    <tr>\n",
       "      <th>2</th>\n",
       "      <td>NaN</td>\n",
       "      <td>NaN</td>\n",
       "      <td>NaN</td>\n",
       "      <td>5/25/2018 1:58</td>\n",
       "      <td>{'hashtags': [{'indices': [49, 65], 'text': 'I...</td>\n",
       "      <td>NaN</td>\n",
       "      <td>0.0</td>\n",
       "      <td>False</td>\n",
       "      <td>NaN</td>\n",
       "      <td>9.998320e+17</td>\n",
       "      <td>...</td>\n",
       "      <td>NaN</td>\n",
       "      <td>NaN</td>\n",
       "      <td>0.0</td>\n",
       "      <td>False</td>\n",
       "      <td>NaN</td>\n",
       "      <td>&lt;a href=\"http://twitter.com/download/iphone\" r...</td>\n",
       "      <td>Shannon Watts of @Everytown Is a Left-Wing Fra...</td>\n",
       "      <td>True</td>\n",
       "      <td>{'contributors_enabled': False, 'created_at': ...</td>\n",
       "      <td>NaN</td>\n",
       "    </tr>\n",
       "    <tr>\n",
       "      <th>3</th>\n",
       "      <td>NaN</td>\n",
       "      <td>NaN</td>\n",
       "      <td>NaN</td>\n",
       "      <td>5/25/2018 1:54</td>\n",
       "      <td>{'hashtags': [], 'symbols': [], 'urls': [], 'u...</td>\n",
       "      <td>NaN</td>\n",
       "      <td>0.0</td>\n",
       "      <td>False</td>\n",
       "      <td>NaN</td>\n",
       "      <td>9.998310e+17</td>\n",
       "      <td>...</td>\n",
       "      <td>NaN</td>\n",
       "      <td>NaN</td>\n",
       "      <td>2.0</td>\n",
       "      <td>False</td>\n",
       "      <td>{'contributors': None, 'coordinates': None, 'c...</td>\n",
       "      <td>&lt;a href=\"http://twitter.com\" rel=\"nofollow\"&gt;Tw...</td>\n",
       "      <td>RT @MachewsMAGA: Dying man's lawsuit claims Mo...</td>\n",
       "      <td>False</td>\n",
       "      <td>{'contributors_enabled': False, 'created_at': ...</td>\n",
       "      <td>NaN</td>\n",
       "    </tr>\n",
       "    <tr>\n",
       "      <th>4</th>\n",
       "      <td>NaN</td>\n",
       "      <td>NaN</td>\n",
       "      <td>NaN</td>\n",
       "      <td>5/25/2018 1:54</td>\n",
       "      <td>{'hashtags': [], 'symbols': [], 'urls': [], 'u...</td>\n",
       "      <td>NaN</td>\n",
       "      <td>0.0</td>\n",
       "      <td>False</td>\n",
       "      <td>NaN</td>\n",
       "      <td>9.998310e+17</td>\n",
       "      <td>...</td>\n",
       "      <td>NaN</td>\n",
       "      <td>NaN</td>\n",
       "      <td>2.0</td>\n",
       "      <td>False</td>\n",
       "      <td>{'contributors': None, 'coordinates': None, 'c...</td>\n",
       "      <td>&lt;a href=\"http://twitter.com/download/iphone\" r...</td>\n",
       "      <td>RT @MachewsMAGA: Dying man's lawsuit claims Mo...</td>\n",
       "      <td>False</td>\n",
       "      <td>{'contributors_enabled': False, 'created_at': ...</td>\n",
       "      <td>NaN</td>\n",
       "    </tr>\n",
       "  </tbody>\n",
       "</table>\n",
       "<p>5 rows × 33 columns</p>\n",
       "</div>"
      ],
      "text/plain": [
       "   Unnamed: 31 contributors coordinates      created_at  \\\n",
       "0          NaN          NaN         NaN  5/25/2018 4:30   \n",
       "1          NaN          NaN         NaN  5/25/2018 4:16   \n",
       "2          NaN          NaN         NaN  5/25/2018 1:58   \n",
       "3          NaN          NaN         NaN  5/25/2018 1:54   \n",
       "4          NaN          NaN         NaN  5/25/2018 1:54   \n",
       "\n",
       "                                            entities extended_entities  \\\n",
       "0  {'hashtags': [{'indices': [51, 61], 'text': 'H...               NaN   \n",
       "1  {'hashtags': [{'indices': [17, 25], 'text': 'a...               NaN   \n",
       "2  {'hashtags': [{'indices': [49, 65], 'text': 'I...               NaN   \n",
       "3  {'hashtags': [], 'symbols': [], 'urls': [], 'u...               NaN   \n",
       "4  {'hashtags': [], 'symbols': [], 'urls': [], 'u...               NaN   \n",
       "\n",
       "   favorite_count favorited  geo            id          ...           \\\n",
       "0             0.0     False  NaN  9.998700e+17          ...            \n",
       "1             0.0     False  NaN  9.998670e+17          ...            \n",
       "2             0.0     False  NaN  9.998320e+17          ...            \n",
       "3             0.0     False  NaN  9.998310e+17          ...            \n",
       "4             0.0     False  NaN  9.998310e+17          ...            \n",
       "\n",
       "   quoted_status_id quoted_status_id_str  retweet_count  retweeted  \\\n",
       "0               NaN                  NaN            0.0      False   \n",
       "1      1.000000e+18         1.000000e+18            0.0      False   \n",
       "2               NaN                  NaN            0.0      False   \n",
       "3               NaN                  NaN            2.0      False   \n",
       "4               NaN                  NaN            2.0      False   \n",
       "\n",
       "                                    retweeted_status  \\\n",
       "0                                                NaN   \n",
       "1                                                NaN   \n",
       "2                                                NaN   \n",
       "3  {'contributors': None, 'coordinates': None, 'c...   \n",
       "4  {'contributors': None, 'coordinates': None, 'c...   \n",
       "\n",
       "                                              source  \\\n",
       "0  <a href=\"http://twitter.com\" rel=\"nofollow\">Tw...   \n",
       "1  <a href=\"http://twitter.com/download/iphone\" r...   \n",
       "2  <a href=\"http://twitter.com/download/iphone\" r...   \n",
       "3  <a href=\"http://twitter.com\" rel=\"nofollow\">Tw...   \n",
       "4  <a href=\"http://twitter.com/download/iphone\" r...   \n",
       "\n",
       "                                                text truncated  \\\n",
       "0  @PressSec @Rambobiggs @TheSlyStallone just ano...     False   \n",
       "1  Chew on this you #antigun #liberals #shooting ...      True   \n",
       "2  Shannon Watts of @Everytown Is a Left-Wing Fra...      True   \n",
       "3  RT @MachewsMAGA: Dying man's lawsuit claims Mo...     False   \n",
       "4  RT @MachewsMAGA: Dying man's lawsuit claims Mo...     False   \n",
       "\n",
       "                                                user withheld_in_countries  \n",
       "0  {'contributors_enabled': False, 'created_at': ...                   NaN  \n",
       "1  {'contributors_enabled': False, 'created_at': ...                   NaN  \n",
       "2  {'contributors_enabled': False, 'created_at': ...                   NaN  \n",
       "3  {'contributors_enabled': False, 'created_at': ...                   NaN  \n",
       "4  {'contributors_enabled': False, 'created_at': ...                   NaN  \n",
       "\n",
       "[5 rows x 33 columns]"
      ]
     },
     "execution_count": 25,
     "metadata": {},
     "output_type": "execute_result"
    }
   ],
   "source": [
    "df = pd.read_csv('Tweets_retweet_count.csv')\n",
    "df.head()"
   ]
  },
  {
   "cell_type": "code",
   "execution_count": 26,
   "metadata": {},
   "outputs": [],
   "source": [
    "df.text.isnull().sum()\n",
    "df.text.fillna('', inplace=True)"
   ]
  },
  {
   "cell_type": "code",
   "execution_count": 27,
   "metadata": {},
   "outputs": [
    {
     "data": {
      "text/html": [
       "<div>\n",
       "<style scoped>\n",
       "    .dataframe tbody tr th:only-of-type {\n",
       "        vertical-align: middle;\n",
       "    }\n",
       "\n",
       "    .dataframe tbody tr th {\n",
       "        vertical-align: top;\n",
       "    }\n",
       "\n",
       "    .dataframe thead th {\n",
       "        text-align: right;\n",
       "    }\n",
       "</style>\n",
       "<table border=\"1\" class=\"dataframe\">\n",
       "  <thead>\n",
       "    <tr style=\"text-align: right;\">\n",
       "      <th></th>\n",
       "      <th>Unnamed: 31</th>\n",
       "      <th>contributors</th>\n",
       "      <th>coordinates</th>\n",
       "      <th>created_at</th>\n",
       "      <th>entities</th>\n",
       "      <th>extended_entities</th>\n",
       "      <th>favorite_count</th>\n",
       "      <th>favorited</th>\n",
       "      <th>geo</th>\n",
       "      <th>id</th>\n",
       "      <th>...</th>\n",
       "      <th>quoted_status_id</th>\n",
       "      <th>quoted_status_id_str</th>\n",
       "      <th>retweet_count</th>\n",
       "      <th>retweeted</th>\n",
       "      <th>retweeted_status</th>\n",
       "      <th>source</th>\n",
       "      <th>text</th>\n",
       "      <th>truncated</th>\n",
       "      <th>user</th>\n",
       "      <th>withheld_in_countries</th>\n",
       "    </tr>\n",
       "  </thead>\n",
       "  <tbody>\n",
       "    <tr>\n",
       "      <th>3</th>\n",
       "      <td>NaN</td>\n",
       "      <td>NaN</td>\n",
       "      <td>NaN</td>\n",
       "      <td>5/25/2018 1:54</td>\n",
       "      <td>{'hashtags': [], 'symbols': [], 'urls': [], 'u...</td>\n",
       "      <td>NaN</td>\n",
       "      <td>0.0</td>\n",
       "      <td>False</td>\n",
       "      <td>NaN</td>\n",
       "      <td>9.998310e+17</td>\n",
       "      <td>...</td>\n",
       "      <td>NaN</td>\n",
       "      <td>NaN</td>\n",
       "      <td>2.0</td>\n",
       "      <td>False</td>\n",
       "      <td>{'contributors': None, 'coordinates': None, 'c...</td>\n",
       "      <td>&lt;a href=\"http://twitter.com\" rel=\"nofollow\"&gt;Tw...</td>\n",
       "      <td>RT @MachewsMAGA: Dying man's lawsuit claims Mo...</td>\n",
       "      <td>False</td>\n",
       "      <td>{'contributors_enabled': False, 'created_at': ...</td>\n",
       "      <td>NaN</td>\n",
       "    </tr>\n",
       "    <tr>\n",
       "      <th>4</th>\n",
       "      <td>NaN</td>\n",
       "      <td>NaN</td>\n",
       "      <td>NaN</td>\n",
       "      <td>5/25/2018 1:54</td>\n",
       "      <td>{'hashtags': [], 'symbols': [], 'urls': [], 'u...</td>\n",
       "      <td>NaN</td>\n",
       "      <td>0.0</td>\n",
       "      <td>False</td>\n",
       "      <td>NaN</td>\n",
       "      <td>9.998310e+17</td>\n",
       "      <td>...</td>\n",
       "      <td>NaN</td>\n",
       "      <td>NaN</td>\n",
       "      <td>2.0</td>\n",
       "      <td>False</td>\n",
       "      <td>{'contributors': None, 'coordinates': None, 'c...</td>\n",
       "      <td>&lt;a href=\"http://twitter.com/download/iphone\" r...</td>\n",
       "      <td>RT @MachewsMAGA: Dying man's lawsuit claims Mo...</td>\n",
       "      <td>False</td>\n",
       "      <td>{'contributors_enabled': False, 'created_at': ...</td>\n",
       "      <td>NaN</td>\n",
       "    </tr>\n",
       "    <tr>\n",
       "      <th>10</th>\n",
       "      <td>NaN</td>\n",
       "      <td>NaN</td>\n",
       "      <td>NaN</td>\n",
       "      <td>5/24/2018 17:53</td>\n",
       "      <td>{'hashtags': [{'indices': [27, 35], 'text': 'S...</td>\n",
       "      <td>NaN</td>\n",
       "      <td>0.0</td>\n",
       "      <td>False</td>\n",
       "      <td>NaN</td>\n",
       "      <td>9.997100e+17</td>\n",
       "      <td>...</td>\n",
       "      <td>NaN</td>\n",
       "      <td>NaN</td>\n",
       "      <td>3.0</td>\n",
       "      <td>False</td>\n",
       "      <td>{'contributors': None, 'coordinates': None, 'c...</td>\n",
       "      <td>&lt;a href=\"http://twitter.com\" rel=\"nofollow\"&gt;Tw...</td>\n",
       "      <td>RT @Info4america: Anti-Gun #Senator Kevin De L...</td>\n",
       "      <td>False</td>\n",
       "      <td>{'contributors_enabled': False, 'created_at': ...</td>\n",
       "      <td>NaN</td>\n",
       "    </tr>\n",
       "    <tr>\n",
       "      <th>17</th>\n",
       "      <td>NaN</td>\n",
       "      <td>NaN</td>\n",
       "      <td>NaN</td>\n",
       "      <td>5/24/2018 14:31</td>\n",
       "      <td>{'hashtags': [{'indices': [44, 48], 'text': 'D...</td>\n",
       "      <td>NaN</td>\n",
       "      <td>0.0</td>\n",
       "      <td>False</td>\n",
       "      <td>NaN</td>\n",
       "      <td>9.996590e+17</td>\n",
       "      <td>...</td>\n",
       "      <td>NaN</td>\n",
       "      <td>NaN</td>\n",
       "      <td>1.0</td>\n",
       "      <td>False</td>\n",
       "      <td>{'contributors': None, 'coordinates': None, 'c...</td>\n",
       "      <td>&lt;a href=\"http://twitter.com\" rel=\"nofollow\"&gt;Tw...</td>\n",
       "      <td>RT @Lastdocpa: @AuthorKimberley Perhaps the #D...</td>\n",
       "      <td>False</td>\n",
       "      <td>{'contributors_enabled': False, 'created_at': ...</td>\n",
       "      <td>NaN</td>\n",
       "    </tr>\n",
       "    <tr>\n",
       "      <th>21</th>\n",
       "      <td>NaN</td>\n",
       "      <td>NaN</td>\n",
       "      <td>NaN</td>\n",
       "      <td>5/24/2018 3:40</td>\n",
       "      <td>{'hashtags': [{'indices': [35, 43], 'text': 'a...</td>\n",
       "      <td>NaN</td>\n",
       "      <td>0.0</td>\n",
       "      <td>False</td>\n",
       "      <td>NaN</td>\n",
       "      <td>9.994950e+17</td>\n",
       "      <td>...</td>\n",
       "      <td>9.990000e+17</td>\n",
       "      <td>9.990000e+17</td>\n",
       "      <td>1.0</td>\n",
       "      <td>False</td>\n",
       "      <td>{'contributors': None, 'coordinates': None, 'c...</td>\n",
       "      <td>&lt;a href=\"http://stopmadness.com/\" rel=\"nofollo...</td>\n",
       "      <td>RT @LibtardsRCrazy: Off the rocker #antigun #l...</td>\n",
       "      <td>False</td>\n",
       "      <td>{'contributors_enabled': False, 'created_at': ...</td>\n",
       "      <td>NaN</td>\n",
       "    </tr>\n",
       "  </tbody>\n",
       "</table>\n",
       "<p>5 rows × 33 columns</p>\n",
       "</div>"
      ],
      "text/plain": [
       "    Unnamed: 31 contributors coordinates       created_at  \\\n",
       "3           NaN          NaN         NaN   5/25/2018 1:54   \n",
       "4           NaN          NaN         NaN   5/25/2018 1:54   \n",
       "10          NaN          NaN         NaN  5/24/2018 17:53   \n",
       "17          NaN          NaN         NaN  5/24/2018 14:31   \n",
       "21          NaN          NaN         NaN   5/24/2018 3:40   \n",
       "\n",
       "                                             entities extended_entities  \\\n",
       "3   {'hashtags': [], 'symbols': [], 'urls': [], 'u...               NaN   \n",
       "4   {'hashtags': [], 'symbols': [], 'urls': [], 'u...               NaN   \n",
       "10  {'hashtags': [{'indices': [27, 35], 'text': 'S...               NaN   \n",
       "17  {'hashtags': [{'indices': [44, 48], 'text': 'D...               NaN   \n",
       "21  {'hashtags': [{'indices': [35, 43], 'text': 'a...               NaN   \n",
       "\n",
       "    favorite_count favorited  geo            id          ...           \\\n",
       "3              0.0     False  NaN  9.998310e+17          ...            \n",
       "4              0.0     False  NaN  9.998310e+17          ...            \n",
       "10             0.0     False  NaN  9.997100e+17          ...            \n",
       "17             0.0     False  NaN  9.996590e+17          ...            \n",
       "21             0.0     False  NaN  9.994950e+17          ...            \n",
       "\n",
       "    quoted_status_id quoted_status_id_str  retweet_count  retweeted  \\\n",
       "3                NaN                  NaN            2.0      False   \n",
       "4                NaN                  NaN            2.0      False   \n",
       "10               NaN                  NaN            3.0      False   \n",
       "17               NaN                  NaN            1.0      False   \n",
       "21      9.990000e+17         9.990000e+17            1.0      False   \n",
       "\n",
       "                                     retweeted_status  \\\n",
       "3   {'contributors': None, 'coordinates': None, 'c...   \n",
       "4   {'contributors': None, 'coordinates': None, 'c...   \n",
       "10  {'contributors': None, 'coordinates': None, 'c...   \n",
       "17  {'contributors': None, 'coordinates': None, 'c...   \n",
       "21  {'contributors': None, 'coordinates': None, 'c...   \n",
       "\n",
       "                                               source  \\\n",
       "3   <a href=\"http://twitter.com\" rel=\"nofollow\">Tw...   \n",
       "4   <a href=\"http://twitter.com/download/iphone\" r...   \n",
       "10  <a href=\"http://twitter.com\" rel=\"nofollow\">Tw...   \n",
       "17  <a href=\"http://twitter.com\" rel=\"nofollow\">Tw...   \n",
       "21  <a href=\"http://stopmadness.com/\" rel=\"nofollo...   \n",
       "\n",
       "                                                 text truncated  \\\n",
       "3   RT @MachewsMAGA: Dying man's lawsuit claims Mo...     False   \n",
       "4   RT @MachewsMAGA: Dying man's lawsuit claims Mo...     False   \n",
       "10  RT @Info4america: Anti-Gun #Senator Kevin De L...     False   \n",
       "17  RT @Lastdocpa: @AuthorKimberley Perhaps the #D...     False   \n",
       "21  RT @LibtardsRCrazy: Off the rocker #antigun #l...     False   \n",
       "\n",
       "                                                 user withheld_in_countries  \n",
       "3   {'contributors_enabled': False, 'created_at': ...                   NaN  \n",
       "4   {'contributors_enabled': False, 'created_at': ...                   NaN  \n",
       "10  {'contributors_enabled': False, 'created_at': ...                   NaN  \n",
       "17  {'contributors_enabled': False, 'created_at': ...                   NaN  \n",
       "21  {'contributors_enabled': False, 'created_at': ...                   NaN  \n",
       "\n",
       "[5 rows x 33 columns]"
      ]
     },
     "execution_count": 27,
     "metadata": {},
     "output_type": "execute_result"
    }
   ],
   "source": [
    "df_rt = df[df.text.str.contains('^RT')]\n",
    "df_rt.head()"
   ]
  },
  {
   "cell_type": "code",
   "execution_count": 28,
   "metadata": {},
   "outputs": [],
   "source": [
    "rt_count = df_rt[['text', 'keyword']].groupby(['text', 'keyword']).size().reset_index()\n",
    "rt_count.columns = ['text', 'keyword', 'count']\n",
    "rt_count.sort_values(by = ['count'], ascending = False, inplace = True)"
   ]
  },
  {
   "cell_type": "code",
   "execution_count": 29,
   "metadata": {},
   "outputs": [],
   "source": [
    "rt_count.head(20).to_csv('retweets.csv')"
   ]
  },
  {
   "cell_type": "code",
   "execution_count": 30,
   "metadata": {},
   "outputs": [],
   "source": [
    "rt_count_1 = df_rt[['keyword']].groupby(['keyword']).size().reset_index()\n",
    "rt_count_1.columns = ['keyword', 'count']\n",
    "rt_count_1.sort_values(by = ['count'], ascending = False, inplace = True)"
   ]
  },
  {
   "cell_type": "code",
   "execution_count": 31,
   "metadata": {},
   "outputs": [],
   "source": [
    "rt_count_1.to_csv('retweets_by_keywords.csv')"
   ]
  },
  {
   "cell_type": "markdown",
   "metadata": {},
   "source": [
    "### Trump Tweets"
   ]
  },
  {
   "cell_type": "code",
   "execution_count": 123,
   "metadata": {},
   "outputs": [],
   "source": [
    "df_trump_tweets = pd.read_csv('Trump_Tweets.csv')\n",
    "text_data = df_trump_tweets['text']\n",
    "text_data.fillna('', inplace=True)\n",
    "\n",
    "list_text = list(text_data)\n",
    "\n",
    "trump_words = preprocessing(list_text)"
   ]
  },
  {
   "cell_type": "code",
   "execution_count": 125,
   "metadata": {},
   "outputs": [],
   "source": [
    "t_counts = Counter(trump_words)\n",
    "\n",
    "df = pd.DataFrame(t_counts.most_common(100), columns=['T_Words', 'Count'])\n",
    "df.to_csv('t_word_count.csv')"
   ]
  },
  {
   "cell_type": "markdown",
   "metadata": {},
   "source": [
    "### LDA"
   ]
  },
  {
   "cell_type": "code",
   "execution_count": 177,
   "metadata": {},
   "outputs": [],
   "source": [
    "def generate_df(model, feature_names, n_top_words, keyword):\n",
    "    topics = []\n",
    "    for topic_idx, topic in enumerate(model.components_):\n",
    "        topic = [\" \".join([feature_names[i] for i in topic.argsort()[:-n_top_words - 1:-1]])]\n",
    "        topic.append(topic_idx + 1)\n",
    "        topics.append(topic)\n",
    "    df = pd.DataFrame(topics)\n",
    "    df.columns = [\"topic\", \"topic_numer\"]\n",
    "    df[\"keyword\"] = keyword\n",
    "    return df\n",
    "\n",
    "def lda_model(df, keyword, n_topic = 5, n_word = 5, max_features = 1000):\n",
    "    '''model for latent dirichlect allocation'''\n",
    "    lda = LatentDirichletAllocation(n_components=n_topic, max_iter=10, learning_method='online', learning_offset=10., random_state=42)\n",
    "    tfid = TfidfVectorizer(max_df=0.95, min_df=3, max_features = max_features)\n",
    "    tfidf_text = tfid.fit_transform(df[df.keyword == keyword].text)\n",
    "    lda_text = lda.fit(tfidf_text)\n",
    "    tfidf_feature_names = tfid.get_feature_names()\n",
    "    lda_df = generate_df(lda_text, tfidf_feature_names, n_word, keyword)\n",
    "    return lda_df"
   ]
  },
  {
   "cell_type": "code",
   "execution_count": 178,
   "metadata": {},
   "outputs": [
    {
     "name": "stdout",
     "output_type": "stream",
     "text": [
      "                        topic  topic_numer        keyword\n",
      "0                in the of it            1  nraconvention\n",
      "1  at the realdonaldtrump you            2  nraconvention\n",
      "2         remember was do the            3  nraconvention\n",
      "3     nraconvention rt the to            4  nraconvention\n"
     ]
    }
   ],
   "source": [
    "lda_nra_convention = lda_model(df_tweets, 'nraconvention', 4, 4)\n",
    "print(lda_nra_convention)"
   ]
  },
  {
   "cell_type": "code",
   "execution_count": 179,
   "metadata": {},
   "outputs": [
    {
     "name": "stdout",
     "output_type": "stream",
     "text": [
      "                                  topic  topic_numer      keyword\n",
      "0  gunviolence santafe guncontrolnow rt            1  gunviolence\n",
      "1                        the and to for            2  gunviolence\n",
      "2  nra realdonaldtrump gunreformnow gop            3  gunviolence\n",
      "3                          the to of in            4  gunviolence\n"
     ]
    }
   ],
   "source": [
    "lda_gunviolence = lda_model(df_tweets, 'gunviolence', 4, 4)\n",
    "print(lda_gunviolence)"
   ]
  },
  {
   "cell_type": "code",
   "execution_count": 180,
   "metadata": {},
   "outputs": [
    {
     "name": "stdout",
     "output_type": "stream",
     "text": [
      "                           topic  topic_numer  keyword\n",
      "0  this nra antigun 2ndamendment            1  antigun\n",
      "1                to about the as            2  antigun\n",
      "2             to that so antigun            3  antigun\n",
      "3     2adefenders is and antigun            4  antigun\n"
     ]
    }
   ],
   "source": [
    "lda_antigun = lda_model(df_tweets, 'antigun', 4, 4)\n",
    "print(lda_antigun)"
   ]
  },
  {
   "cell_type": "code",
   "execution_count": 181,
   "metadata": {},
   "outputs": [
    {
     "name": "stdout",
     "output_type": "stream",
     "text": [
      "                                    topic  topic_numer  \\\n",
      "0                       never to get will            1   \n",
      "1       my it and ifidieinaschoolshooting            2   \n",
      "2      ifidieinaschoolshooting my will be            3   \n",
      "3  the is ifidieinaschoolshooting hashtag            4   \n",
      "\n",
      "                   keyword  \n",
      "0  IfIdieInASchoolShooting  \n",
      "1  IfIdieInASchoolShooting  \n",
      "2  IfIdieInASchoolShooting  \n",
      "3  IfIdieInASchoolShooting  \n"
     ]
    }
   ],
   "source": [
    "lda_school_shooting = lda_model(df_tweets, 'IfIdieInASchoolShooting', 4, 4)\n",
    "print(lda_school_shooting)"
   ]
  },
  {
   "cell_type": "code",
   "execution_count": 182,
   "metadata": {},
   "outputs": [
    {
     "name": "stdout",
     "output_type": "stream",
     "text": [
      "                                           topic  topic_numer     keyword\n",
      "0  guncontrol guncontrolnow rt santafehighschool            1  guncontrol\n",
      "1      realdonaldtrump santafe guncontrol enough            2  guncontrol\n",
      "2                         the school in shooting            3  guncontrol\n",
      "3                                  to the you we            4  guncontrol\n"
     ]
    }
   ],
   "source": [
    "lda_guncontrol = lda_model(df_tweets, 'guncontrol', 4, 4)\n",
    "print(lda_guncontrol)"
   ]
  },
  {
   "cell_type": "code",
   "execution_count": 183,
   "metadata": {},
   "outputs": [
    {
     "name": "stdout",
     "output_type": "stream",
     "text": [
      "               topic  topic_numer keyword\n",
      "0     the to you and            1     nra\n",
      "1     nra 2a gun new            2     nra\n",
      "2    nra in the here            3     nra\n",
      "3  maga rt trump nra            4     nra\n"
     ]
    }
   ],
   "source": [
    "lda_nra = lda_model(df_tweets, 'nra', 4, 4)\n",
    "print(lda_nra)"
   ]
  },
  {
   "cell_type": "code",
   "execution_count": 184,
   "metadata": {},
   "outputs": [],
   "source": [
    "lda_df = pd.concat([lda_nra_convention, lda_gunviolence, lda_antigun, lda_school_shooting, lda_guncontrol, lda_nra])\n",
    "lda_df.to_csv('lda_data.csv')"
   ]
  },
  {
   "cell_type": "code",
   "execution_count": null,
   "metadata": {},
   "outputs": [],
   "source": []
  }
 ],
 "metadata": {
  "kernelspec": {
   "display_name": "Python 3",
   "language": "python",
   "name": "python3"
  },
  "language_info": {
   "codemirror_mode": {
    "name": "ipython",
    "version": 3
   },
   "file_extension": ".py",
   "mimetype": "text/x-python",
   "name": "python",
   "nbconvert_exporter": "python",
   "pygments_lexer": "ipython3",
   "version": "3.6.4"
  }
 },
 "nbformat": 4,
 "nbformat_minor": 2
}
