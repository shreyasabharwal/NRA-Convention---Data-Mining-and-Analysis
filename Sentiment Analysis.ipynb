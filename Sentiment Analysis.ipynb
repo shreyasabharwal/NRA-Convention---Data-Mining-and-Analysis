{
 "cells": [
  {
   "cell_type": "code",
   "execution_count": 9,
   "metadata": {},
   "outputs": [],
   "source": [
    "from nltk import download\n",
    "from html.parser import HTMLParser\n",
    "import re\n",
    "from nltk.corpus import stopwords\n",
    "import string\n",
    "from nltk.stem.wordnet import WordNetLemmatizer \n",
    "from nltk.tokenize import word_tokenize\n",
    "from nltk.stem import PorterStemmer\n",
    "from itertools import groupby\n",
    "import pandas as pd\n",
    "import json\n",
    "import numpy as np\n",
    "import ast\n",
    "from collections import Counter\n",
    "import glob\n",
    "import os\n",
    "import warnings\n",
    "from sklearn.feature_extraction.text import CountVectorizer\n",
    "from vaderSentiment.vaderSentiment import SentimentIntensityAnalyzer\n",
    "\n",
    "#download('punkt')\n",
    "#download('wordnet')"
   ]
  },
  {
   "cell_type": "code",
   "execution_count": 10,
   "metadata": {},
   "outputs": [],
   "source": [
    "warnings.filterwarnings('ignore')\n",
    "analyzer = SentimentIntensityAnalyzer()"
   ]
  },
  {
   "cell_type": "code",
   "execution_count": 11,
   "metadata": {},
   "outputs": [],
   "source": [
    "df_tweets = pd.read_csv('Cleaned_Tweets.csv')"
   ]
  },
  {
   "cell_type": "code",
   "execution_count": 12,
   "metadata": {},
   "outputs": [
    {
     "data": {
      "text/plain": [
       "(87403, 9)"
      ]
     },
     "execution_count": 12,
     "metadata": {},
     "output_type": "execute_result"
    }
   ],
   "source": [
    "df_tweets.shape"
   ]
  },
  {
   "cell_type": "code",
   "execution_count": 13,
   "metadata": {},
   "outputs": [
    {
     "data": {
      "text/html": [
       "<div>\n",
       "<style scoped>\n",
       "    .dataframe tbody tr th:only-of-type {\n",
       "        vertical-align: middle;\n",
       "    }\n",
       "\n",
       "    .dataframe tbody tr th {\n",
       "        vertical-align: top;\n",
       "    }\n",
       "\n",
       "    .dataframe thead th {\n",
       "        text-align: right;\n",
       "    }\n",
       "</style>\n",
       "<table border=\"1\" class=\"dataframe\">\n",
       "  <thead>\n",
       "    <tr style=\"text-align: right;\">\n",
       "      <th></th>\n",
       "      <th>created_at</th>\n",
       "      <th>entities</th>\n",
       "      <th>retweet_count</th>\n",
       "      <th>retweeted</th>\n",
       "      <th>text</th>\n",
       "      <th>keyword</th>\n",
       "      <th>hashtags</th>\n",
       "      <th>location</th>\n",
       "      <th>screen_name</th>\n",
       "    </tr>\n",
       "  </thead>\n",
       "  <tbody>\n",
       "    <tr>\n",
       "      <th>0</th>\n",
       "      <td>2018-05-25</td>\n",
       "      <td>{'hashtags': [{'indices': [51, 61], 'text': 'H...</td>\n",
       "      <td>0.0</td>\n",
       "      <td>False</td>\n",
       "      <td>@PressSec @Rambobiggs @TheSlyStallone just ano...</td>\n",
       "      <td>antigun</td>\n",
       "      <td>['Hollywood', 'AntiGun', 'Anti2ndAmendment', '...</td>\n",
       "      <td>in the middle of nowhere USA</td>\n",
       "      <td>Hiwayman64</td>\n",
       "    </tr>\n",
       "    <tr>\n",
       "      <th>1</th>\n",
       "      <td>2018-05-25</td>\n",
       "      <td>{'hashtags': [{'indices': [17, 25], 'text': 'a...</td>\n",
       "      <td>0.0</td>\n",
       "      <td>False</td>\n",
       "      <td>Chew on this you #antigun #liberals #shooting ...</td>\n",
       "      <td>antigun</td>\n",
       "      <td>['antigun', 'liberals', 'shooting', 'DavidHogg']</td>\n",
       "      <td>NaN</td>\n",
       "      <td>Infidel_Sniper</td>\n",
       "    </tr>\n",
       "    <tr>\n",
       "      <th>2</th>\n",
       "      <td>2018-05-25</td>\n",
       "      <td>{'hashtags': [{'indices': [49, 65], 'text': 'I...</td>\n",
       "      <td>0.0</td>\n",
       "      <td>False</td>\n",
       "      <td>Shannon Watts of @Everytown Is a Left-Wing Fra...</td>\n",
       "      <td>antigun</td>\n",
       "      <td>['IAmForGunRights']</td>\n",
       "      <td>Ohio, USA</td>\n",
       "      <td>MachewsMAGA</td>\n",
       "    </tr>\n",
       "    <tr>\n",
       "      <th>3</th>\n",
       "      <td>2018-05-25</td>\n",
       "      <td>{'hashtags': [], 'symbols': [], 'urls': [], 'u...</td>\n",
       "      <td>2.0</td>\n",
       "      <td>False</td>\n",
       "      <td>RT @MachewsMAGA: Dying man's lawsuit claims Mo...</td>\n",
       "      <td>antigun</td>\n",
       "      <td>0</td>\n",
       "      <td>Eden</td>\n",
       "      <td>emalvini</td>\n",
       "    </tr>\n",
       "    <tr>\n",
       "      <th>4</th>\n",
       "      <td>2018-05-25</td>\n",
       "      <td>{'hashtags': [], 'symbols': [], 'urls': [{'dis...</td>\n",
       "      <td>2.0</td>\n",
       "      <td>False</td>\n",
       "      <td>Dying man's lawsuit claims Monsanto covered up...</td>\n",
       "      <td>antigun</td>\n",
       "      <td>0</td>\n",
       "      <td>Ohio, USA</td>\n",
       "      <td>MachewsMAGA</td>\n",
       "    </tr>\n",
       "  </tbody>\n",
       "</table>\n",
       "</div>"
      ],
      "text/plain": [
       "   created_at                                           entities  \\\n",
       "0  2018-05-25  {'hashtags': [{'indices': [51, 61], 'text': 'H...   \n",
       "1  2018-05-25  {'hashtags': [{'indices': [17, 25], 'text': 'a...   \n",
       "2  2018-05-25  {'hashtags': [{'indices': [49, 65], 'text': 'I...   \n",
       "3  2018-05-25  {'hashtags': [], 'symbols': [], 'urls': [], 'u...   \n",
       "4  2018-05-25  {'hashtags': [], 'symbols': [], 'urls': [{'dis...   \n",
       "\n",
       "   retweet_count retweeted                                               text  \\\n",
       "0            0.0     False  @PressSec @Rambobiggs @TheSlyStallone just ano...   \n",
       "1            0.0     False  Chew on this you #antigun #liberals #shooting ...   \n",
       "2            0.0     False  Shannon Watts of @Everytown Is a Left-Wing Fra...   \n",
       "3            2.0     False  RT @MachewsMAGA: Dying man's lawsuit claims Mo...   \n",
       "4            2.0     False  Dying man's lawsuit claims Monsanto covered up...   \n",
       "\n",
       "   keyword                                           hashtags  \\\n",
       "0  antigun  ['Hollywood', 'AntiGun', 'Anti2ndAmendment', '...   \n",
       "1  antigun   ['antigun', 'liberals', 'shooting', 'DavidHogg']   \n",
       "2  antigun                                ['IAmForGunRights']   \n",
       "3  antigun                                                  0   \n",
       "4  antigun                                                  0   \n",
       "\n",
       "                       location     screen_name  \n",
       "0  in the middle of nowhere USA      Hiwayman64  \n",
       "1                           NaN  Infidel_Sniper  \n",
       "2                     Ohio, USA     MachewsMAGA  \n",
       "3                          Eden        emalvini  \n",
       "4                     Ohio, USA     MachewsMAGA  "
      ]
     },
     "execution_count": 13,
     "metadata": {},
     "output_type": "execute_result"
    }
   ],
   "source": [
    "df_tweets.head()"
   ]
  },
  {
   "cell_type": "code",
   "execution_count": 14,
   "metadata": {},
   "outputs": [
    {
     "data": {
      "text/plain": [
       "Index(['created_at', 'entities', 'retweet_count', 'retweeted', 'text',\n",
       "       'keyword', 'hashtags', 'location', 'screen_name'],\n",
       "      dtype='object')"
      ]
     },
     "execution_count": 14,
     "metadata": {},
     "output_type": "execute_result"
    }
   ],
   "source": [
    "df_tweets.columns"
   ]
  },
  {
   "cell_type": "code",
   "execution_count": 16,
   "metadata": {},
   "outputs": [
    {
     "data": {
      "text/plain": [
       "nra                        38734\n",
       "guncontrol                 37103\n",
       "IfIdieInASchoolShooting     6649\n",
       "gunviolence                 4685\n",
       "antigun                      131\n",
       "nraconvention                101\n",
       "Name: keyword, dtype: int64"
      ]
     },
     "execution_count": 16,
     "metadata": {},
     "output_type": "execute_result"
    }
   ],
   "source": [
    "pd.value_counts(df_tweets.keyword)"
   ]
  },
  {
   "cell_type": "code",
   "execution_count": 17,
   "metadata": {},
   "outputs": [
    {
     "name": "stdout",
     "output_type": "stream",
     "text": [
      "before, number of nan: 1\n",
      "after, number of nan: 0\n"
     ]
    }
   ],
   "source": [
    "print('before, number of nan:', df_tweets['text'].isnull().sum())\n",
    "df_tweets['text'].fillna('', inplace=True)\n",
    "print('after, number of nan:',df_tweets['text'].isnull().sum())\n",
    "text_data = df_tweets['text']\n",
    "\n",
    "list_text = list(df_tweets['text'])\n"
   ]
  },
  {
   "cell_type": "markdown",
   "metadata": {},
   "source": [
    "### polarity of all tweets by keywords"
   ]
  },
  {
   "cell_type": "code",
   "execution_count": 38,
   "metadata": {},
   "outputs": [],
   "source": [
    "def return_sentiment_scores(keyword):\n",
    "    sentence = ' '.join(df_tweets[df_tweets.keyword == keyword].text.values)\n",
    "    snt = analyzer.polarity_scores(sentence)\n",
    "    return(snt)"
   ]
  },
  {
   "cell_type": "code",
   "execution_count": 41,
   "metadata": {},
   "outputs": [],
   "source": [
    "snt_list = []\n",
    "snt_list.append(return_sentiment_scores('antigun'))\n",
    "snt_list.append(return_sentiment_scores('nraconvention'))\n",
    "snt_list.append(return_sentiment_scores('IfIdieInASchoolShooting'))\n",
    "snt_list.append(return_sentiment_scores('guncontrol'))\n",
    "snt_list.append(return_sentiment_scores('nra'))\n",
    "snt_list.append(return_sentiment_scores('gunviolence'))"
   ]
  },
  {
   "cell_type": "markdown",
   "metadata": {},
   "source": [
    "### polarity of Trump tweets"
   ]
  },
  {
   "cell_type": "code",
   "execution_count": 42,
   "metadata": {},
   "outputs": [],
   "source": [
    "df_trump_tweets = pd.read_csv('Trump_Tweets.csv')\n",
    "text_data = df_trump_tweets['text']\n",
    "text_data.fillna('', inplace=True)\n",
    "\n",
    "sentence = ' '.join(df_tweets.text.values)\n",
    "snt = analyzer.polarity_scores(sentence)\n",
    "snt_list.append(snt)\n",
    "\n",
    "\n",
    "snt_df = pd.DataFrame(snt_list)\n",
    "snt_df.to_csv('polarity.csv')"
   ]
  },
  {
   "cell_type": "code",
   "execution_count": null,
   "metadata": {},
   "outputs": [],
   "source": []
  }
 ],
 "metadata": {
  "kernelspec": {
   "display_name": "Python 3",
   "language": "python",
   "name": "python3"
  },
  "language_info": {
   "codemirror_mode": {
    "name": "ipython",
    "version": 3
   },
   "file_extension": ".py",
   "mimetype": "text/x-python",
   "name": "python",
   "nbconvert_exporter": "python",
   "pygments_lexer": "ipython3",
   "version": "3.6.4"
  }
 },
 "nbformat": 4,
 "nbformat_minor": 2
}
